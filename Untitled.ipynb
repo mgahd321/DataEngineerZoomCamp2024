{
 "cells": [
  {
   "cell_type": "code",
   "execution_count": 1,
   "id": "e676614c-ec96-440b-8a33-9ac213c9518d",
   "metadata": {},
   "outputs": [
    {
     "name": "stdout",
     "output_type": "stream",
     "text": [
      "Hello DataEngineerZoomCamp2024\n"
     ]
    }
   ],
   "source": [
    "print(\"Hello DataEngineerZoomCamp2024\")"
   ]
  },
  {
   "cell_type": "code",
   "execution_count": null,
   "id": "0e73a8d4-a898-46b1-8bf2-3c7bcb577c34",
   "metadata": {},
   "outputs": [],
   "source": []
  }
 ],
 "metadata": {
  "kernelspec": {
   "display_name": "Python 3 (ipykernel)",
   "language": "python",
   "name": "python3"
  },
  "language_info": {
   "codemirror_mode": {
    "name": "ipython",
    "version": 3
   },
   "file_extension": ".py",
   "mimetype": "text/x-python",
   "name": "python",
   "nbconvert_exporter": "python",
   "pygments_lexer": "ipython3",
   "version": "3.10.13"
  }
 },
 "nbformat": 4,
 "nbformat_minor": 5
}
